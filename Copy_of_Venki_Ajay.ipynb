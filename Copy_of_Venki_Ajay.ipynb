{
  "nbformat": 4,
  "nbformat_minor": 0,
  "metadata": {
    "colab": {
      "provenance": []
    },
    "kernelspec": {
      "name": "python3",
      "display_name": "Python 3"
    },
    "language_info": {
      "name": "python"
    }
  },
  "cells": [
    {
      "cell_type": "code",
      "execution_count": null,
      "metadata": {
        "colab": {
          "base_uri": "https://localhost:8080/"
        },
        "id": "VbQjvsdNgeQa",
        "outputId": "64ebf520-a576-4233-8f9e-7bd0f1bf810b"
      },
      "outputs": [
        {
          "output_type": "stream",
          "name": "stdout",
          "text": [
            "Drive already mounted at /content/drive; to attempt to forcibly remount, call drive.mount(\"/content/drive\", force_remount=True).\n"
          ]
        }
      ],
      "source": [
        "# Step1: Import libraries and mount Google Drive\n",
        "import pandas as pd\n",
        "import numpy as np\n",
        "import os\n",
        "import cv2\n",
        "import shutil\n",
        "from sklearn.model_selection import train_test_split\n",
        "import tensorflow as tf\n",
        "from tensorflow.keras.preprocessing.image import ImageDataGenerator\n",
        "from tensorflow.keras.models import Sequential\n",
        "from tensorflow.keras.layers import Conv2D, MaxPooling2D, Flatten, Dense, Dropout, Activation, BatchNormalization\n",
        "from tensorflow.keras.callbacks import EarlyStopping\n",
        "import matplotlib.pyplot as plt\n",
        "\n",
        "# step2  Mount Google Drive\n",
        "from google.colab import drive\n",
        "drive.mount('/content/drive')"
      ]
    },
    {
      "cell_type": "code",
      "source": [
        "# step3 Set paths\n",
        "\n",
        "data_csv_path = '/content/drive/MyDrive/archive/Training_set.csv'\n",
        "images_folder_path = '/content/drive/MyDrive/archive/train'\n",
        "Additional_monarch_path =  '/content/drive/MyDrive/archive/new_monarch_butterfly_data_265pxl/data/train/monarch'"
      ],
      "metadata": {
        "id": "XWMCU2tjh58S"
      },
      "execution_count": null,
      "outputs": []
    },
    {
      "cell_type": "code",
      "source": [
        "#Step 4\n",
        "import os\n",
        "import shutil\n",
        "import pandas as pd\n",
        "import cv2\n",
        "from tqdm import tqdm  # for progress bars\n",
        "\n",
        "# Step 1: Define paths\n",
        "data_csv_path = '/content/drive/MyDrive/archive/Training_set.csv'\n",
        "images_folder_path = '/content/drive/MyDrive/archive/train'\n",
        "additional_monarch_path = '/content/drive/MyDrive/archive/new_monarch_butterfly_data_265pxl/data/train/monarch'\n",
        "TARGET_SIZE = (224, 224)\n",
        "\n",
        "# Step 2: Create new destination folders\n",
        "project_root = '/content/drive/MyDrive/Ajay_Butterfly_Project'\n",
        "monarch_dir = os.path.join(project_root, 'images', 'monarch')\n",
        "non_monarch_dir = os.path.join(project_root, 'images', 'non-monarch')\n",
        "os.makedirs(monarch_dir, exist_ok=True)\n",
        "os.makedirs(non_monarch_dir, exist_ok=True)\n",
        "\n",
        "print(\"📁 Creating project folders and loading CSV...\")\n",
        "df = pd.read_csv(data_csv_path)\n",
        "df['label'] = df['label'].str.upper()\n",
        "\n",
        "print(f\"📄 Total records in CSV: {len(df)}\\n\")\n",
        "\n",
        "# Step 3: Copy and resize CSV-labeled images\n",
        "new_records = []\n",
        "missing_files = []\n",
        "\n",
        "print(\"🔄 Processing labeled CSV images...\\n\")\n",
        "for idx, row in enumerate(tqdm(df.itertuples(), total=len(df))):\n",
        "    filename = row.filename\n",
        "    label = row.label\n",
        "    src_path = os.path.join(images_folder_path, label, filename)\n",
        "\n",
        "    # Choose destination based on label\n",
        "    if label == 'MONARCH':\n",
        "        dst_path = os.path.join(monarch_dir, filename)\n",
        "        label_out = 'monarch'\n",
        "    else:\n",
        "        dst_path = os.path.join(non_monarch_dir, filename)\n",
        "        label_out = 'non-monarch'\n",
        "\n",
        "    try:\n",
        "        img = cv2.imread(src_path)\n",
        "        if img is not None:\n",
        "            img_resized = cv2.resize(img, TARGET_SIZE)\n",
        "            cv2.imwrite(dst_path, img_resized)\n",
        "            new_records.append({'filename': filename, 'label': label_out})\n",
        "        else:\n",
        "            print(f\"⚠️ Skipped unreadable image: {src_path}\")\n",
        "    except Exception as e:\n",
        "        print(f\"❌ Error copying {src_path}: {e}\")\n",
        "        missing_files.append(src_path)\n",
        "\n",
        "print(f\"\\n✅ Done copying {len(new_records)} images from CSV.\")\n",
        "if missing_files:\n",
        "    print(f\"⚠️ {len(missing_files)} missing/unreadable files were skipped.\")\n",
        "\n",
        "# Step 4: Copy and resize additional monarch images\n",
        "print(\"\\n📥 Copying extra monarch images...\")\n",
        "\n",
        "extra_files = [f for f in os.listdir(additional_monarch_path) if f.lower().endswith(('.jpg', '.jpeg', '.png'))]\n",
        "extra_count = 0\n",
        "\n",
        "for file in tqdm(extra_files):\n",
        "    src_path = os.path.join(additional_monarch_path, file)\n",
        "    dst_path = os.path.join(monarch_dir, file)\n",
        "    try:\n",
        "        img = cv2.imread(src_path)\n",
        "        if img is not None:\n",
        "            img_resized = cv2.resize(img, TARGET_SIZE)\n",
        "            cv2.imwrite(dst_path, img_resized)\n",
        "            new_records.append({'filename': file, 'label': 'monarch'})\n",
        "            extra_count += 1\n",
        "        else:\n",
        "            print(f\"⚠️ Skipped unreadable image: {file}\")\n",
        "    except Exception as e:\n",
        "        print(f\"⚠️ Could not copy {file}: {e}\")\n",
        "\n",
        "print(f\"\\n🦋 {extra_count} additional monarch images copied and resized.\")\n",
        "\n",
        "# Step 5: Save final CSV\n",
        "final_csv_path = os.path.join(project_root, 'Ajay_Training_set.csv')\n",
        "df_final = pd.DataFrame(new_records).sort_values('filename').reset_index(drop=True)\n",
        "df_final.to_csv(final_csv_path, index=False)\n",
        "\n",
        "# Step 6: Summary\n",
        "print(\"\\n✅ Final Summary:\")\n",
        "print(f\"📁 Output directory: {project_root}\")\n",
        "print(f\"📝 CSV saved to: {final_csv_path}\")\n",
        "print(f\"🖼️ Total monarch images: {sum([r['label'] == 'monarch' for r in new_records])}\")\n",
        "print(f\"🦋 Total non-monarch images: {sum([r['label'] == 'non-monarch' for r in new_records])}\")\n",
        "print(f\"📦 Total combined images: {len(new_records)}\")\n",
        "\n"
      ],
      "metadata": {
        "colab": {
          "base_uri": "https://localhost:8080/"
        },
        "id": "qesd78_o1JL4",
        "outputId": "97ce9599-9049-4670-f849-373e23891721"
      },
      "execution_count": null,
      "outputs": [
        {
          "metadata": {
            "tags": null
          },
          "name": "stdout",
          "output_type": "stream",
          "text": [
            "📁 Creating project folders and loading CSV...\n",
            "📄 Total records in CSV: 6499\n",
            "\n",
            "🔄 Processing labeled CSV images...\n",
            "\n"
          ]
        },
        {
          "output_type": "stream",
          "name": "stderr",
          "text": [
            "100%|██████████| 6499/6499 [27:47<00:00,  3.90it/s]\n"
          ]
        },
        {
          "output_type": "stream",
          "name": "stdout",
          "text": [
            "\n",
            "✅ Done copying 6499 images from CSV.\n",
            "\n",
            "📥 Copying extra monarch images...\n"
          ]
        },
        {
          "output_type": "stream",
          "name": "stderr",
          "text": [
            "100%|██████████| 802/802 [00:16<00:00, 48.01it/s]"
          ]
        },
        {
          "output_type": "stream",
          "name": "stdout",
          "text": [
            "\n",
            "🦋 802 additional monarch images copied and resized.\n",
            "\n",
            "✅ Final Summary:\n",
            "📁 Output directory: /content/drive/MyDrive/Ajay_Butterfly_Project\n",
            "📝 CSV saved to: /content/drive/MyDrive/Ajay_Butterfly_Project/Ajay_Training_set.csv\n",
            "🖼️ Total monarch images: 892\n",
            "🦋 Total non-monarch images: 6409\n",
            "📦 Total combined images: 7301\n"
          ]
        },
        {
          "output_type": "stream",
          "name": "stderr",
          "text": [
            "\n"
          ]
        }
      ]
    },
    {
      "cell_type": "code",
      "source": [
        "import os\n",
        "import shutil\n",
        "import pandas as pd\n",
        "import cv2\n",
        "import numpy as np\n",
        "from sklearn.model_selection import train_test_split\n",
        "from tqdm import tqdm\n",
        "\n",
        "# Step 1: Define source and target paths\n",
        "csv_path = '/content/drive/MyDrive/Ajay_Butterfly_Project/Ajay_Training_set.csv'\n",
        "image_root = '/content/drive/MyDrive/Ajay_Butterfly_Project/images'\n",
        "output_root = '/content/drive/MyDrive/Ajay_Butterfly_Project_Balanced'\n",
        "target_size = (224, 224)\n",
        "\n",
        "# Step 2: Load and balance the data\n",
        "df = pd.read_csv(csv_path)\n",
        "df_monarch = df[df['label'] == 'monarch']\n",
        "df_nonmonarch = df[df['label'] == 'non-monarch']\n",
        "min_count = min(len(df_monarch), len(df_nonmonarch))\n",
        "\n",
        "df_monarch_bal = df_monarch.sample(n=min_count, random_state=42)\n",
        "df_nonmonarch_bal = df_nonmonarch.sample(n=min_count, random_state=42)\n",
        "\n",
        "df_balanced = pd.concat([df_monarch_bal, df_nonmonarch_bal]).sample(frac=1, random_state=42).reset_index(drop=True)\n",
        "\n",
        "# Step 3: Split into train/val/test\n",
        "train_df, temp_df = train_test_split(df_balanced, test_size=0.30, stratify=df_balanced['label'], random_state=42)\n",
        "val_df, test_df = train_test_split(temp_df, test_size=0.50, stratify=temp_df['label'], random_state=42)\n",
        "\n",
        "# Step 4: Create folder structure\n",
        "for split in ['train', 'val', 'test']:\n",
        "    for label in ['monarch', 'non-monarch']:\n",
        "        os.makedirs(os.path.join(output_root, split, label), exist_ok=True)\n",
        "\n",
        "# Step 5: Copy, resize, normalize, and save images\n",
        "def process_and_save_images(df, split):\n",
        "    m_count, n_count = 0, 0\n",
        "    for _, row in tqdm(df.iterrows(), total=len(df), desc=f\"Processing {split}\"):\n",
        "        label = row['label']\n",
        "        filename = row['filename']\n",
        "        src_path = os.path.join(image_root, label, filename)\n",
        "        dst_path = os.path.join(output_root, split, label, filename)\n",
        "\n",
        "        try:\n",
        "            img = cv2.imread(src_path)\n",
        "            if img is not None:\n",
        "                img_resized = cv2.resize(img, target_size)\n",
        "                img_normalized = (img_resized / 255.0 * 255).astype('uint8')  # Normalize then re-encode\n",
        "                cv2.imwrite(dst_path, img_normalized)\n",
        "                if label == 'monarch':\n",
        "                    m_count += 1\n",
        "                else:\n",
        "                    n_count += 1\n",
        "            else:\n",
        "                print(f\"⚠️ Skipped unreadable image: {src_path}\")\n",
        "        except Exception as e:\n",
        "            print(f\"❌ Error processing {src_path}: {e}\")\n",
        "    return m_count, n_count\n",
        "\n",
        "# Step 6: Run processing for all splits\n",
        "train_m, train_n = process_and_save_images(train_df, 'train')\n",
        "val_m, val_n = process_and_save_images(val_df, 'val')\n",
        "test_m, test_n = process_and_save_images(test_df, 'test')\n",
        "\n",
        "# Step 7: Final report\n",
        "print(\"\\n📊 Final Balanced Dataset Summary (normalized and saved):\")\n",
        "print(f\"Train: {train_m} monarch, {train_n} non-monarch\")\n",
        "print(f\"Val:   {val_m} monarch, {val_n} non-monarch\")\n",
        "print(f\"Test:  {test_m} monarch, {test_n} non-monarch\")\n",
        "print(f\"\\n📁 All data saved to: {output_root}\")\n",
        "\n"
      ],
      "metadata": {
        "colab": {
          "base_uri": "https://localhost:8080/"
        },
        "id": "qHocdTPZC4aL",
        "outputId": "9d393a14-5b5d-4cca-cf45-094fae46536c"
      },
      "execution_count": null,
      "outputs": [
        {
          "output_type": "stream",
          "name": "stderr",
          "text": [
            "Processing train: 100%|██████████| 1248/1248 [01:37<00:00, 12.80it/s]\n",
            "Processing val: 100%|██████████| 268/268 [00:06<00:00, 40.10it/s]\n",
            "Processing test: 100%|██████████| 268/268 [00:07<00:00, 38.20it/s]"
          ]
        },
        {
          "output_type": "stream",
          "name": "stdout",
          "text": [
            "\n",
            "📊 Final Balanced Dataset Summary (normalized and saved):\n",
            "Train: 624 monarch, 624 non-monarch\n",
            "Val:   134 monarch, 134 non-monarch\n",
            "Test:  134 monarch, 134 non-monarch\n",
            "\n",
            "📁 All data saved to: /content/drive/MyDrive/Ajay_Butterfly_Project_Balanced\n"
          ]
        },
        {
          "output_type": "stream",
          "name": "stderr",
          "text": [
            "\n"
          ]
        }
      ]
    },
    {
      "cell_type": "code",
      "source": [
        "from tensorflow.keras.preprocessing.image import ImageDataGenerator\n",
        "\n",
        "# Define paths\n",
        "data_path = '/content/drive/MyDrive/Ajay_Butterfly_Project_Balanced'\n",
        "\n",
        "# Create ImageDataGenerators with normalization\n",
        "train_gen = ImageDataGenerator(rescale=1./255)\n",
        "val_gen = ImageDataGenerator(rescale=1./255)\n",
        "test_gen = ImageDataGenerator(rescale=1./255)\n",
        "\n",
        "# Load images from folders\n",
        "train_loader = train_gen.flow_from_directory(\n",
        "    directory=os.path.join(data_path, 'train'),\n",
        "    target_size=(224, 224),\n",
        "    batch_size=32,\n",
        "    class_mode='binary'\n",
        ")\n",
        "\n",
        "val_loader = val_gen.flow_from_directory(\n",
        "    directory=os.path.join(data_path, 'val'),\n",
        "    target_size=(224, 224),\n",
        "    batch_size=32,\n",
        "    class_mode='binary'\n",
        ")\n",
        "\n",
        "test_loader = test_gen.flow_from_directory(\n",
        "    directory=os.path.join(data_path, 'test'),\n",
        "    target_size=(224, 224),\n",
        "    batch_size=32,\n",
        "    class_mode='binary',\n",
        "    shuffle=False\n",
        ")\n"
      ],
      "metadata": {
        "colab": {
          "base_uri": "https://localhost:8080/"
        },
        "id": "WtdyQZHHElFZ",
        "outputId": "e9f80494-3479-42a5-c952-9d819e8875c7"
      },
      "execution_count": null,
      "outputs": [
        {
          "output_type": "stream",
          "name": "stdout",
          "text": [
            "Found 1248 images belonging to 2 classes.\n",
            "Found 268 images belonging to 2 classes.\n",
            "Found 268 images belonging to 2 classes.\n"
          ]
        }
      ]
    },
    {
      "cell_type": "code",
      "source": [
        "from tensorflow.keras import layers, models\n",
        "\n",
        "model = models.Sequential([\n",
        "    layers.Input(shape=(224, 224, 3)),\n",
        "\n",
        "    layers.Conv2D(32, (3, 3), activation='relu'),\n",
        "    layers.MaxPooling2D(),\n",
        "\n",
        "    layers.Conv2D(64, (3, 3), activation='relu'),\n",
        "    layers.MaxPooling2D(),\n",
        "\n",
        "    layers.Conv2D(128, (3, 3), activation='relu'),\n",
        "    layers.MaxPooling2D(),\n",
        "\n",
        "    layers.Flatten(),\n",
        "    layers.Dense(128, activation='relu'),\n",
        "    layers.Dropout(0.5),\n",
        "\n",
        "    layers.Dense(1, activation='sigmoid')  # Binary classification\n",
        "])\n",
        "\n",
        "model.compile(optimizer='adam', loss='binary_crossentropy', metrics=['accuracy'])\n",
        "model.summary()\n"
      ],
      "metadata": {
        "colab": {
          "base_uri": "https://localhost:8080/",
          "height": 449
        },
        "id": "NITrBtOKjBLi",
        "outputId": "5078b512-808a-49fe-a851-d20fa4fef6f2"
      },
      "execution_count": null,
      "outputs": [
        {
          "output_type": "display_data",
          "data": {
            "text/plain": [
              "\u001b[1mModel: \"sequential\"\u001b[0m\n"
            ],
            "text/html": [
              "<pre style=\"white-space:pre;overflow-x:auto;line-height:normal;font-family:Menlo,'DejaVu Sans Mono',consolas,'Courier New',monospace\"><span style=\"font-weight: bold\">Model: \"sequential\"</span>\n",
              "</pre>\n"
            ]
          },
          "metadata": {}
        },
        {
          "output_type": "display_data",
          "data": {
            "text/plain": [
              "┏━━━━━━━━━━━━━━━━━━━━━━━━━━━━━━━━━┳━━━━━━━━━━━━━━━━━━━━━━━━┳━━━━━━━━━━━━━━━┓\n",
              "┃\u001b[1m \u001b[0m\u001b[1mLayer (type)                   \u001b[0m\u001b[1m \u001b[0m┃\u001b[1m \u001b[0m\u001b[1mOutput Shape          \u001b[0m\u001b[1m \u001b[0m┃\u001b[1m \u001b[0m\u001b[1m      Param #\u001b[0m\u001b[1m \u001b[0m┃\n",
              "┡━━━━━━━━━━━━━━━━━━━━━━━━━━━━━━━━━╇━━━━━━━━━━━━━━━━━━━━━━━━╇━━━━━━━━━━━━━━━┩\n",
              "│ conv2d (\u001b[38;5;33mConv2D\u001b[0m)                 │ (\u001b[38;5;45mNone\u001b[0m, \u001b[38;5;34m222\u001b[0m, \u001b[38;5;34m222\u001b[0m, \u001b[38;5;34m32\u001b[0m)   │           \u001b[38;5;34m896\u001b[0m │\n",
              "├─────────────────────────────────┼────────────────────────┼───────────────┤\n",
              "│ max_pooling2d (\u001b[38;5;33mMaxPooling2D\u001b[0m)    │ (\u001b[38;5;45mNone\u001b[0m, \u001b[38;5;34m111\u001b[0m, \u001b[38;5;34m111\u001b[0m, \u001b[38;5;34m32\u001b[0m)   │             \u001b[38;5;34m0\u001b[0m │\n",
              "├─────────────────────────────────┼────────────────────────┼───────────────┤\n",
              "│ conv2d_1 (\u001b[38;5;33mConv2D\u001b[0m)               │ (\u001b[38;5;45mNone\u001b[0m, \u001b[38;5;34m109\u001b[0m, \u001b[38;5;34m109\u001b[0m, \u001b[38;5;34m64\u001b[0m)   │        \u001b[38;5;34m18,496\u001b[0m │\n",
              "├─────────────────────────────────┼────────────────────────┼───────────────┤\n",
              "│ max_pooling2d_1 (\u001b[38;5;33mMaxPooling2D\u001b[0m)  │ (\u001b[38;5;45mNone\u001b[0m, \u001b[38;5;34m54\u001b[0m, \u001b[38;5;34m54\u001b[0m, \u001b[38;5;34m64\u001b[0m)     │             \u001b[38;5;34m0\u001b[0m │\n",
              "├─────────────────────────────────┼────────────────────────┼───────────────┤\n",
              "│ conv2d_2 (\u001b[38;5;33mConv2D\u001b[0m)               │ (\u001b[38;5;45mNone\u001b[0m, \u001b[38;5;34m52\u001b[0m, \u001b[38;5;34m52\u001b[0m, \u001b[38;5;34m128\u001b[0m)    │        \u001b[38;5;34m73,856\u001b[0m │\n",
              "├─────────────────────────────────┼────────────────────────┼───────────────┤\n",
              "│ max_pooling2d_2 (\u001b[38;5;33mMaxPooling2D\u001b[0m)  │ (\u001b[38;5;45mNone\u001b[0m, \u001b[38;5;34m26\u001b[0m, \u001b[38;5;34m26\u001b[0m, \u001b[38;5;34m128\u001b[0m)    │             \u001b[38;5;34m0\u001b[0m │\n",
              "├─────────────────────────────────┼────────────────────────┼───────────────┤\n",
              "│ flatten (\u001b[38;5;33mFlatten\u001b[0m)               │ (\u001b[38;5;45mNone\u001b[0m, \u001b[38;5;34m86528\u001b[0m)          │             \u001b[38;5;34m0\u001b[0m │\n",
              "├─────────────────────────────────┼────────────────────────┼───────────────┤\n",
              "│ dense (\u001b[38;5;33mDense\u001b[0m)                   │ (\u001b[38;5;45mNone\u001b[0m, \u001b[38;5;34m128\u001b[0m)            │    \u001b[38;5;34m11,075,712\u001b[0m │\n",
              "├─────────────────────────────────┼────────────────────────┼───────────────┤\n",
              "│ dropout (\u001b[38;5;33mDropout\u001b[0m)               │ (\u001b[38;5;45mNone\u001b[0m, \u001b[38;5;34m128\u001b[0m)            │             \u001b[38;5;34m0\u001b[0m │\n",
              "├─────────────────────────────────┼────────────────────────┼───────────────┤\n",
              "│ dense_1 (\u001b[38;5;33mDense\u001b[0m)                 │ (\u001b[38;5;45mNone\u001b[0m, \u001b[38;5;34m1\u001b[0m)              │           \u001b[38;5;34m129\u001b[0m │\n",
              "└─────────────────────────────────┴────────────────────────┴───────────────┘\n"
            ],
            "text/html": [
              "<pre style=\"white-space:pre;overflow-x:auto;line-height:normal;font-family:Menlo,'DejaVu Sans Mono',consolas,'Courier New',monospace\">┏━━━━━━━━━━━━━━━━━━━━━━━━━━━━━━━━━┳━━━━━━━━━━━━━━━━━━━━━━━━┳━━━━━━━━━━━━━━━┓\n",
              "┃<span style=\"font-weight: bold\"> Layer (type)                    </span>┃<span style=\"font-weight: bold\"> Output Shape           </span>┃<span style=\"font-weight: bold\">       Param # </span>┃\n",
              "┡━━━━━━━━━━━━━━━━━━━━━━━━━━━━━━━━━╇━━━━━━━━━━━━━━━━━━━━━━━━╇━━━━━━━━━━━━━━━┩\n",
              "│ conv2d (<span style=\"color: #0087ff; text-decoration-color: #0087ff\">Conv2D</span>)                 │ (<span style=\"color: #00d7ff; text-decoration-color: #00d7ff\">None</span>, <span style=\"color: #00af00; text-decoration-color: #00af00\">222</span>, <span style=\"color: #00af00; text-decoration-color: #00af00\">222</span>, <span style=\"color: #00af00; text-decoration-color: #00af00\">32</span>)   │           <span style=\"color: #00af00; text-decoration-color: #00af00\">896</span> │\n",
              "├─────────────────────────────────┼────────────────────────┼───────────────┤\n",
              "│ max_pooling2d (<span style=\"color: #0087ff; text-decoration-color: #0087ff\">MaxPooling2D</span>)    │ (<span style=\"color: #00d7ff; text-decoration-color: #00d7ff\">None</span>, <span style=\"color: #00af00; text-decoration-color: #00af00\">111</span>, <span style=\"color: #00af00; text-decoration-color: #00af00\">111</span>, <span style=\"color: #00af00; text-decoration-color: #00af00\">32</span>)   │             <span style=\"color: #00af00; text-decoration-color: #00af00\">0</span> │\n",
              "├─────────────────────────────────┼────────────────────────┼───────────────┤\n",
              "│ conv2d_1 (<span style=\"color: #0087ff; text-decoration-color: #0087ff\">Conv2D</span>)               │ (<span style=\"color: #00d7ff; text-decoration-color: #00d7ff\">None</span>, <span style=\"color: #00af00; text-decoration-color: #00af00\">109</span>, <span style=\"color: #00af00; text-decoration-color: #00af00\">109</span>, <span style=\"color: #00af00; text-decoration-color: #00af00\">64</span>)   │        <span style=\"color: #00af00; text-decoration-color: #00af00\">18,496</span> │\n",
              "├─────────────────────────────────┼────────────────────────┼───────────────┤\n",
              "│ max_pooling2d_1 (<span style=\"color: #0087ff; text-decoration-color: #0087ff\">MaxPooling2D</span>)  │ (<span style=\"color: #00d7ff; text-decoration-color: #00d7ff\">None</span>, <span style=\"color: #00af00; text-decoration-color: #00af00\">54</span>, <span style=\"color: #00af00; text-decoration-color: #00af00\">54</span>, <span style=\"color: #00af00; text-decoration-color: #00af00\">64</span>)     │             <span style=\"color: #00af00; text-decoration-color: #00af00\">0</span> │\n",
              "├─────────────────────────────────┼────────────────────────┼───────────────┤\n",
              "│ conv2d_2 (<span style=\"color: #0087ff; text-decoration-color: #0087ff\">Conv2D</span>)               │ (<span style=\"color: #00d7ff; text-decoration-color: #00d7ff\">None</span>, <span style=\"color: #00af00; text-decoration-color: #00af00\">52</span>, <span style=\"color: #00af00; text-decoration-color: #00af00\">52</span>, <span style=\"color: #00af00; text-decoration-color: #00af00\">128</span>)    │        <span style=\"color: #00af00; text-decoration-color: #00af00\">73,856</span> │\n",
              "├─────────────────────────────────┼────────────────────────┼───────────────┤\n",
              "│ max_pooling2d_2 (<span style=\"color: #0087ff; text-decoration-color: #0087ff\">MaxPooling2D</span>)  │ (<span style=\"color: #00d7ff; text-decoration-color: #00d7ff\">None</span>, <span style=\"color: #00af00; text-decoration-color: #00af00\">26</span>, <span style=\"color: #00af00; text-decoration-color: #00af00\">26</span>, <span style=\"color: #00af00; text-decoration-color: #00af00\">128</span>)    │             <span style=\"color: #00af00; text-decoration-color: #00af00\">0</span> │\n",
              "├─────────────────────────────────┼────────────────────────┼───────────────┤\n",
              "│ flatten (<span style=\"color: #0087ff; text-decoration-color: #0087ff\">Flatten</span>)               │ (<span style=\"color: #00d7ff; text-decoration-color: #00d7ff\">None</span>, <span style=\"color: #00af00; text-decoration-color: #00af00\">86528</span>)          │             <span style=\"color: #00af00; text-decoration-color: #00af00\">0</span> │\n",
              "├─────────────────────────────────┼────────────────────────┼───────────────┤\n",
              "│ dense (<span style=\"color: #0087ff; text-decoration-color: #0087ff\">Dense</span>)                   │ (<span style=\"color: #00d7ff; text-decoration-color: #00d7ff\">None</span>, <span style=\"color: #00af00; text-decoration-color: #00af00\">128</span>)            │    <span style=\"color: #00af00; text-decoration-color: #00af00\">11,075,712</span> │\n",
              "├─────────────────────────────────┼────────────────────────┼───────────────┤\n",
              "│ dropout (<span style=\"color: #0087ff; text-decoration-color: #0087ff\">Dropout</span>)               │ (<span style=\"color: #00d7ff; text-decoration-color: #00d7ff\">None</span>, <span style=\"color: #00af00; text-decoration-color: #00af00\">128</span>)            │             <span style=\"color: #00af00; text-decoration-color: #00af00\">0</span> │\n",
              "├─────────────────────────────────┼────────────────────────┼───────────────┤\n",
              "│ dense_1 (<span style=\"color: #0087ff; text-decoration-color: #0087ff\">Dense</span>)                 │ (<span style=\"color: #00d7ff; text-decoration-color: #00d7ff\">None</span>, <span style=\"color: #00af00; text-decoration-color: #00af00\">1</span>)              │           <span style=\"color: #00af00; text-decoration-color: #00af00\">129</span> │\n",
              "└─────────────────────────────────┴────────────────────────┴───────────────┘\n",
              "</pre>\n"
            ]
          },
          "metadata": {}
        },
        {
          "output_type": "display_data",
          "data": {
            "text/plain": [
              "\u001b[1m Total params: \u001b[0m\u001b[38;5;34m11,169,089\u001b[0m (42.61 MB)\n"
            ],
            "text/html": [
              "<pre style=\"white-space:pre;overflow-x:auto;line-height:normal;font-family:Menlo,'DejaVu Sans Mono',consolas,'Courier New',monospace\"><span style=\"font-weight: bold\"> Total params: </span><span style=\"color: #00af00; text-decoration-color: #00af00\">11,169,089</span> (42.61 MB)\n",
              "</pre>\n"
            ]
          },
          "metadata": {}
        },
        {
          "output_type": "display_data",
          "data": {
            "text/plain": [
              "\u001b[1m Trainable params: \u001b[0m\u001b[38;5;34m11,169,089\u001b[0m (42.61 MB)\n"
            ],
            "text/html": [
              "<pre style=\"white-space:pre;overflow-x:auto;line-height:normal;font-family:Menlo,'DejaVu Sans Mono',consolas,'Courier New',monospace\"><span style=\"font-weight: bold\"> Trainable params: </span><span style=\"color: #00af00; text-decoration-color: #00af00\">11,169,089</span> (42.61 MB)\n",
              "</pre>\n"
            ]
          },
          "metadata": {}
        },
        {
          "output_type": "display_data",
          "data": {
            "text/plain": [
              "\u001b[1m Non-trainable params: \u001b[0m\u001b[38;5;34m0\u001b[0m (0.00 B)\n"
            ],
            "text/html": [
              "<pre style=\"white-space:pre;overflow-x:auto;line-height:normal;font-family:Menlo,'DejaVu Sans Mono',consolas,'Courier New',monospace\"><span style=\"font-weight: bold\"> Non-trainable params: </span><span style=\"color: #00af00; text-decoration-color: #00af00\">0</span> (0.00 B)\n",
              "</pre>\n"
            ]
          },
          "metadata": {}
        }
      ]
    },
    {
      "cell_type": "code",
      "source": [
        "history = model.fit(\n",
        "    train_loader,\n",
        "    validation_data=val_loader,\n",
        "    epochs=10\n",
        ")\n"
      ],
      "metadata": {
        "colab": {
          "base_uri": "https://localhost:8080/"
        },
        "id": "90gfKr7IE-8w",
        "outputId": "09945a6f-d9ac-40ae-bbd7-140e8cc2693b"
      },
      "execution_count": null,
      "outputs": [
        {
          "output_type": "stream",
          "name": "stderr",
          "text": [
            "/usr/local/lib/python3.11/dist-packages/keras/src/trainers/data_adapters/py_dataset_adapter.py:121: UserWarning: Your `PyDataset` class should call `super().__init__(**kwargs)` in its constructor. `**kwargs` can include `workers`, `use_multiprocessing`, `max_queue_size`. Do not pass these arguments to `fit()`, as they will be ignored.\n",
            "  self._warn_if_super_not_called()\n"
          ]
        },
        {
          "output_type": "stream",
          "name": "stdout",
          "text": [
            "Epoch 1/10\n",
            "\u001b[1m39/39\u001b[0m \u001b[32m━━━━━━━━━━━━━━━━━━━━\u001b[0m\u001b[37m\u001b[0m \u001b[1m159s\u001b[0m 4s/step - accuracy: 0.5534 - loss: 1.0666 - val_accuracy: 0.7351 - val_loss: 0.5455\n",
            "Epoch 2/10\n",
            "\u001b[1m39/39\u001b[0m \u001b[32m━━━━━━━━━━━━━━━━━━━━\u001b[0m\u001b[37m\u001b[0m \u001b[1m201s\u001b[0m 4s/step - accuracy: 0.7499 - loss: 0.5171 - val_accuracy: 0.7836 - val_loss: 0.4508\n",
            "Epoch 3/10\n",
            "\u001b[1m39/39\u001b[0m \u001b[32m━━━━━━━━━━━━━━━━━━━━\u001b[0m\u001b[37m\u001b[0m \u001b[1m144s\u001b[0m 4s/step - accuracy: 0.8196 - loss: 0.4162 - val_accuracy: 0.7873 - val_loss: 0.3796\n",
            "Epoch 4/10\n",
            "\u001b[1m39/39\u001b[0m \u001b[32m━━━━━━━━━━━━━━━━━━━━\u001b[0m\u001b[37m\u001b[0m \u001b[1m160s\u001b[0m 4s/step - accuracy: 0.8615 - loss: 0.3262 - val_accuracy: 0.8433 - val_loss: 0.3274\n",
            "Epoch 5/10\n",
            "\u001b[1m39/39\u001b[0m \u001b[32m━━━━━━━━━━━━━━━━━━━━\u001b[0m\u001b[37m\u001b[0m \u001b[1m144s\u001b[0m 4s/step - accuracy: 0.9069 - loss: 0.2382 - val_accuracy: 0.8918 - val_loss: 0.2868\n",
            "Epoch 6/10\n",
            "\u001b[1m39/39\u001b[0m \u001b[32m━━━━━━━━━━━━━━━━━━━━\u001b[0m\u001b[37m\u001b[0m \u001b[1m145s\u001b[0m 4s/step - accuracy: 0.9094 - loss: 0.2182 - val_accuracy: 0.8955 - val_loss: 0.2946\n",
            "Epoch 7/10\n",
            "\u001b[1m39/39\u001b[0m \u001b[32m━━━━━━━━━━━━━━━━━━━━\u001b[0m\u001b[37m\u001b[0m \u001b[1m141s\u001b[0m 4s/step - accuracy: 0.9543 - loss: 0.1215 - val_accuracy: 0.8582 - val_loss: 0.3633\n",
            "Epoch 8/10\n",
            "\u001b[1m39/39\u001b[0m \u001b[32m━━━━━━━━━━━━━━━━━━━━\u001b[0m\u001b[37m\u001b[0m \u001b[1m144s\u001b[0m 4s/step - accuracy: 0.9598 - loss: 0.1102 - val_accuracy: 0.8993 - val_loss: 0.2836\n",
            "Epoch 9/10\n",
            "\u001b[1m39/39\u001b[0m \u001b[32m━━━━━━━━━━━━━━━━━━━━\u001b[0m\u001b[37m\u001b[0m \u001b[1m152s\u001b[0m 4s/step - accuracy: 0.9792 - loss: 0.0674 - val_accuracy: 0.7910 - val_loss: 0.4554\n",
            "Epoch 10/10\n",
            "\u001b[1m39/39\u001b[0m \u001b[32m━━━━━━━━━━━━━━━━━━━━\u001b[0m\u001b[37m\u001b[0m \u001b[1m194s\u001b[0m 4s/step - accuracy: 0.9478 - loss: 0.1392 - val_accuracy: 0.8806 - val_loss: 0.3769\n"
          ]
        }
      ]
    },
    {
      "cell_type": "code",
      "source": [
        "# Test accuracy\n",
        "loss, acc = model.evaluate(test_loader)\n",
        "print(f\"\\n🧪 Test Accuracy: {acc:.4f}\")\n"
      ],
      "metadata": {
        "colab": {
          "base_uri": "https://localhost:8080/"
        },
        "id": "aeuGp1vVLJOO",
        "outputId": "1dbc7dfa-99ee-414d-ce77-43c0a9d3ade9"
      },
      "execution_count": null,
      "outputs": [
        {
          "output_type": "stream",
          "name": "stdout",
          "text": [
            "\u001b[1m9/9\u001b[0m \u001b[32m━━━━━━━━━━━━━━━━━━━━\u001b[0m\u001b[37m\u001b[0m \u001b[1m9s\u001b[0m 947ms/step - accuracy: 0.9294 - loss: 0.2426\n",
            "\n",
            "🧪 Test Accuracy: 0.9179\n"
          ]
        }
      ]
    },
    {
      "cell_type": "code",
      "source": [
        "import matplotlib.pyplot as plt\n",
        "\n",
        "plt.plot(history.history['accuracy'], label='Train Acc')\n",
        "plt.plot(history.history['val_accuracy'], label='Val Acc')\n",
        "plt.xlabel('Epoch')\n",
        "plt.ylabel('Accuracy')\n",
        "plt.title('Training vs Validation Accuracy')\n",
        "plt.legend()\n",
        "plt.grid(True)\n",
        "plt.show()\n"
      ],
      "metadata": {
        "colab": {
          "base_uri": "https://localhost:8080/",
          "height": 472
        },
        "id": "Xym75F0HLRlB",
        "outputId": "a07d807c-65d7-4737-d917-b240123f1caa"
      },
      "execution_count": null,
      "outputs": [
        {
          "output_type": "display_data",
          "data": {
            "text/plain": [
              "<Figure size 640x480 with 1 Axes>"
            ],
            "image/png": "[encoded data removed]"
          },
          "metadata": {}
        }
      ]
    },
    {
      "cell_type": "code",
      "source": [
        "from sklearn.metrics import confusion_matrix, classification_report, ConfusionMatrixDisplay\n",
        "import numpy as np\n",
        "import matplotlib.pyplot as plt\n",
        "\n",
        "# Step 1: Predict on test set\n",
        "y_pred_prob = model.predict(test_loader)\n",
        "y_pred = (y_pred_prob > 0.5).astype(\"int\").flatten()\n",
        "\n",
        "# Step 2: True labels\n",
        "y_true = test_loader.classes\n",
        "class_names = list(test_loader.class_indices.keys())  # ['monarch', 'non-monarch'] (alphabetical)\n",
        "\n",
        "# Step 3: Confusion Matrix\n",
        "cm = confusion_matrix(y_true, y_pred)\n",
        "disp = ConfusionMatrixDisplay(confusion_matrix=cm, display_labels=class_names)\n",
        "disp.plot(cmap=plt.cm.Blues)\n",
        "plt.title(\"🦋 Confusion Matrix\")\n",
        "plt.grid(False)\n",
        "plt.show()\n",
        "\n",
        "# Step 4: Classification Report\n",
        "report = classification_report(y_true, y_pred, target_names=class_names)\n",
        "print(\"📊 Classification Report:\\n\")\n",
        "print(report)\n"
      ],
      "metadata": {
        "colab": {
          "base_uri": "https://localhost:8080/",
          "height": 735
        },
        "id": "hkY3PEXkLcme",
        "outputId": "e42cabc6-620e-4147-e109-3e1a23d5121c"
      },
      "execution_count": null,
      "outputs": [
        {
          "output_type": "stream",
          "name": "stdout",
          "text": [
            "\u001b[1m9/9\u001b[0m \u001b[32m━━━━━━━━━━━━━━━━━━━━\u001b[0m\u001b[37m\u001b[0m \u001b[1m18s\u001b[0m 2s/step\n"
          ]
        },
        {
          "output_type": "stream",
          "name": "stderr",
          "text": [
            "/usr/local/lib/python3.11/dist-packages/IPython/core/pylabtools.py:151: UserWarning: Glyph 129419 (\\N{BUTTERFLY}) missing from font(s) DejaVu Sans.\n",
            "  fig.canvas.print_figure(bytes_io, **kw)\n"
          ]
        },
        {
          "output_type": "display_data",
          "data": {
            "text/plain": [
              "<Figure size 640x480 with 2 Axes>"
            ],
            "image/png": "[encoded data removed]"
          },
          "metadata": {}
        },
        {
          "output_type": "stream",
          "name": "stdout",
          "text": [
            "📊 Classification Report:\n",
            "\n",
            "              precision    recall  f1-score   support\n",
            "\n",
            "     monarch       0.90      0.94      0.92       134\n",
            " non-monarch       0.94      0.90      0.92       134\n",
            "\n",
            "    accuracy                           0.92       268\n",
            "   macro avg       0.92      0.92      0.92       268\n",
            "weighted avg       0.92      0.92      0.92       268\n",
            "\n"
          ]
        }
      ]
    },
    {
      "cell_type": "code",
      "source": [
        "# Save the full model (architecture + weights + optimizer)\n",
        "model.save('/content/drive/MyDrive/Ajay_Butterfly_Project_Balanced/monarch_classifier_model.h5')\n",
        "print(\"✅ Model saved to Google Drive!\")\n"
      ],
      "metadata": {
        "colab": {
          "base_uri": "https://localhost:8080/"
        },
        "id": "oz6-2KUaLp3D",
        "outputId": "6a018a05-2b00-4871-d37c-c06882eccb77"
      },
      "execution_count": null,
      "outputs": [
        {
          "output_type": "stream",
          "name": "stderr",
          "text": [
            "WARNING:absl:You are saving your model as an HDF5 file via `model.save()` or `keras.saving.save_model(model)`. This file format is considered legacy. We recommend using instead the native Keras format, e.g. `model.save('my_model.keras')` or `keras.saving.save_model(model, 'my_model.keras')`. \n"
          ]
        },
        {
          "output_type": "stream",
          "name": "stdout",
          "text": [
            "✅ Model saved to Google Drive!\n"
          ]
        }
      ]
    }
  ]
}